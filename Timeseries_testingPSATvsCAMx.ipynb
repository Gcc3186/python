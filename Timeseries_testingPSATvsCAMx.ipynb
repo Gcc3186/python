{
 "cells": [
  {
   "cell_type": "code",
   "execution_count": 79,
   "metadata": {},
   "outputs": [],
   "source": [
    "import glob\n",
    "import netCDF4\n",
    "\n",
    "import numpy as np\n",
    "\n",
    "dir = '/mnt/npsnas8/CMAQv5.4_2018_12NE3_Benchmark_2Day_Input/output_CCTM_v54_ISAM_pgi_Bench_2018_12NE3/'\n",
    "\n",
    "filen_conc = 'CCTM_ACONC_v54_ISAM_pgi_Bench_2018_12NE3_20180701.nc'\n",
    "filen_isam_conc = 'CCTM_SA_ACONC_v54_ISAM_pgi_Bench_2018_12NE3_20180701.nc'\n",
    "\n",
    "cmaq = netCDF4.Dataset(dir+filen_conc)\n",
    "isam = netCDF4.Dataset(dir+filen_isam_conc)\n",
    "\n",
    "nh3 = np.mean(cmaq.variables['NH3'][:,0,:,:],axis=0)*1000\n",
    "\n",
    "ico = np.mean(isam.variables['NH3_ICO'][:,0,:,:],axis=0)*1000\n",
    "bco = np.mean(isam.variables['NH3_BCO'][:,0,:,:],axis=0)*1000\n",
    "\n",
    "egu = np.mean(isam.variables['NH3_EGU'][:,0,:,:],axis=0)*1000\n",
    "bio = np.mean(isam.variables['NH3_BIO'][:,0,:,:],axis=0)*1000\n",
    "bid = np.mean(isam.variables['NH3_BID'][:,0,:,:],axis=0)*1000\n",
    "oth = np.mean(isam.variables['NH3_OTH'][:,0,:,:],axis=0)*1000\n",
    "\n",
    "nh3_isam = ico + bco + egu + bio + bid + oth\n"
   ]
  },
  {
   "cell_type": "code",
   "execution_count": 80,
   "metadata": {},
   "outputs": [
    {
     "data": {
      "text/plain": [
       "1161.4111856011286"
      ]
     },
     "execution_count": 80,
     "metadata": {},
     "output_type": "execute_result"
    }
   ],
   "source": [
    "#DENS\t\t ,kg/m3     ,PSFC[2]/(T2[2]*287.0*(1+((461.6/287.0)*Q2[2])))   ,density as provided by Wyat Appel\n",
    "# NH3 ,ppbV ,1000.0NH3[1]\n",
    "# NH3_UGM3 ,ug m-3 ,1000.0(NH3[1]0.5880DENS[2])\n",
    "############################################################################\n",
    "# To calculate air density using CMAQ output variables, you can use the ideal gas law, which states that:\n",
    "\n",
    "# density = (pressure * molecular weight) / (gas constant * temperature)\n",
    "\n",
    "# where:\n",
    "\n",
    "# pressure is the air pressure in Pascals (Pa)\n",
    "# molecular weight is the average molecular weight of air, which is approximately 28.97 g/mol\n",
    "# gas constant is the universal gas constant, which is approximately 8.314 J/(mol K)\n",
    "# temperature is the air temperature in Kelvin (K)\n",
    "# CMAQ output variables that you can use to calculate air density include:\n",
    "\n",
    "# pressure: \"PRES\" variable in Pa\n",
    "# temperature: \"TEMP2\" variable in Kelvin\n",
    "# Assuming a molecular weight of 28.97 g/mol and a gas constant of 8.314 J/(mol K), you can calculate air density (in kg/m^3) as:\n",
    "\n",
    "# density = (PRES * 28.97) / (8.314 * TEMP2)\n",
    "\n",
    "# Note that the output variables may have different units, so you may need to convert them to the correct units before using them in the calculation.\n",
    "densa = (cmaq.variables['PRES'][:] * 28.97) / (8.314 * cmaq.variables['TA'][:])\n",
    "dens = np.mean(np.mean(densa,axis=0))\n",
    "dens"
   ]
  },
  {
   "cell_type": "code",
   "execution_count": 88,
   "metadata": {},
   "outputs": [
    {
     "data": {
      "text/plain": [
       "2.31841371580953"
      ]
     },
     "execution_count": 88,
     "metadata": {},
     "output_type": "execute_result"
    }
   ],
   "source": [
    "np.mean(np.mean(nh3,axis=0))*0.588*dens/1000\n",
    "# np.mean(np.mean(nh3,axis=0))"
   ]
  },
  {
   "cell_type": "code",
   "execution_count": 86,
   "metadata": {},
   "outputs": [
    {
     "data": {
      "text/plain": [
       "2.3184138786279087"
      ]
     },
     "execution_count": 86,
     "metadata": {},
     "output_type": "execute_result"
    }
   ],
   "source": [
    "np.mean(np.mean(nh3_isam,axis=0))*0.588*dens/1000"
   ]
  },
  {
   "cell_type": "code",
   "execution_count": 125,
   "metadata": {},
   "outputs": [
    {
     "data": {
      "text/plain": [
       "2.318418595272817"
      ]
     },
     "execution_count": 125,
     "metadata": {},
     "output_type": "execute_result"
    }
   ],
   "source": [
    "#dire = '/mnt/npsnas8/CMAQv5.4_2018_12NE3_Benchmark_2Day_Input/output_CCTM_v54_pgi_Bench_2018_12NE3/'\n",
    "cmaq_s = netCDF4.Dataset('/mnt/npsnas8/CMAQv5.4_2018_12NE3_Benchmark_2Day_Input/output_CCTM_v54_pgi_Bench_2018_12NE3/CCTM_ACONC_v54_pgi_Bench_2018_12NE3_20180701.nc')\n",
    "nh3_s = np.mean(np.mean(cmaq_s.variables['NH3'],axis=0))*0.588*dens\n",
    "nh3_s"
   ]
  },
  {
   "cell_type": "code",
   "execution_count": 132,
   "metadata": {},
   "outputs": [],
   "source": [
    "\n",
    "filen_conc = 'CCTM_WETDEP1_v54_ISAM_pgi_Bench_2018_12NE3_20180701.nc'\n",
    "filen_isam_conc = 'CCTM_SA_WETDEP_v54_ISAM_pgi_Bench_2018_12NE3_20180701.nc'\n",
    "\n",
    "cmaq = netCDF4.Dataset(dir+filen_conc)\n",
    "isam = netCDF4.Dataset(dir+filen_isam_conc)\n",
    "cmaq\n",
    "nh3 = np.sum(cmaq.variables['NH3'][:,0,:,:],axis=0)\n",
    "\n",
    "ico = np.sum(isam.variables['NH3_ICO'][:,0,:,:],axis=0)\n",
    "bco = np.sum(isam.variables['NH3_BCO'][:,0,:,:],axis=0)\n",
    "\n",
    "egu = np.sum(isam.variables['NH3_EGU'][:,0,:,:],axis=0)\n",
    "bio = np.sum(isam.variables['NH3_BIO'][:,0,:,:],axis=0)\n",
    "bid = np.sum(isam.variables['NH3_BID'][:,0,:,:],axis=0)\n",
    "oth = np.sum(isam.variables['NH3_OTH'][:,0,:,:],axis=0)\n",
    "\n",
    "nh3_isam = ico + bco + egu + bio + bid + oth\n",
    "\n",
    "\n"
   ]
  },
  {
   "cell_type": "code",
   "execution_count": 138,
   "metadata": {},
   "outputs": [
    {
     "name": "stdout",
     "output_type": "stream",
     "text": [
      "0.1939057547133416 g ha-1\n"
     ]
    }
   ],
   "source": [
    "print(np.mean(np.sum(nh3,axis=0))*1000,'g ha-1')"
   ]
  },
  {
   "cell_type": "code",
   "execution_count": 139,
   "metadata": {},
   "outputs": [
    {
     "name": "stdout",
     "output_type": "stream",
     "text": [
      "0.19393215188756585 g ha-1\n"
     ]
    }
   ],
   "source": [
    "print(np.mean(np.sum(nh3_isam,axis=0))*1000,'g ha-1')"
   ]
  },
  {
   "cell_type": "code",
   "execution_count": 137,
   "metadata": {},
   "outputs": [
    {
     "name": "stdout",
     "output_type": "stream",
     "text": [
      "0.19392115 g ha-1\n"
     ]
    }
   ],
   "source": [
    "#dire = '/mnt/npsnas8/CMAQv5.4_2018_12NE3_Benchmark_2Day_Input/output_CCTM_v54_pgi_Bench_2018_12NE3/'\n",
    "cmaq_s = netCDF4.Dataset('/mnt/npsnas8/CMAQv5.4_2018_12NE3_Benchmark_2Day_Input/output_CCTM_v54_pgi_Bench_2018_12NE3/CCTM_WETDEP1_v54_pgi_Bench_2018_12NE3_20180701.nc')\n",
    "# nh3_s = np.mean(np.mean(cmaq_s.variables['NH3'],axis=0))*0.588*dens\n",
    "# nh3_s = np.sum(np.mean(cmaq_s.variables['NH3'][:,0,:,:],axis=0))*1000\n",
    "\n",
    "nh3_x = np.sum(cmaq_s.variables['NH3'][:,0,:,:]*1000,axis=0)\n",
    "print(np.mean(np.sum(nh3_x,axis=0)),'g ha-1')"
   ]
  },
  {
   "cell_type": "code",
   "execution_count": 140,
   "metadata": {},
   "outputs": [],
   "source": [
    "filen_conc = 'CCTM_DRYDEP_v54_ISAM_pgi_Bench_2018_12NE3_20180701.nc'\n",
    "filen_isam_conc = 'CCTM_SA_DRYDEP_v54_ISAM_pgi_Bench_2018_12NE3_20180701.nc'\n",
    "\n",
    "cmaq = netCDF4.Dataset(dir+filen_conc)\n",
    "isam = netCDF4.Dataset(dir+filen_isam_conc)\n",
    "cmaq\n",
    "nh3 = np.mean(cmaq.variables['NH3'][:,0,:,:],axis=0)\n",
    "\n",
    "ico = np.mean(isam.variables['NH3_ICO'][:,0,:,:],axis=0)\n",
    "bco = np.mean(isam.variables['NH3_BCO'][:,0,:,:],axis=0)\n",
    "\n",
    "egu = np.mean(isam.variables['NH3_EGU'][:,0,:,:],axis=0)\n",
    "bio = np.mean(isam.variables['NH3_BIO'][:,0,:,:],axis=0)\n",
    "bid = np.mean(isam.variables['NH3_BID'][:,0,:,:],axis=0)\n",
    "oth = np.mean(isam.variables['NH3_OTH'][:,0,:,:],axis=0)\n",
    "\n",
    "nh3_isam = ico + bco + egu + bio + bid + oth\n"
   ]
  },
  {
   "cell_type": "code",
   "execution_count": 100,
   "metadata": {},
   "outputs": [
    {
     "data": {
      "text/plain": [
       "<class 'netCDF4._netCDF4.Variable'>\n",
       "float32 NH3(TSTEP, LAY, ROW, COL)\n",
       "    long_name: NH3             \n",
       "    units: kg ha-1         \n",
       "    var_desc: hourly dry deposition values                                                    \n",
       "unlimited dimensions: TSTEP\n",
       "current shape = (24, 1, 105, 100)\n",
       "filling on, default _FillValue of 9.969209968386869e+36 used"
      ]
     },
     "execution_count": 100,
     "metadata": {},
     "output_type": "execute_result"
    }
   ],
   "source": [
    "cmaq.variables['NH3']"
   ]
  },
  {
   "cell_type": "code",
   "execution_count": 141,
   "metadata": {},
   "outputs": [
    {
     "name": "stdout",
     "output_type": "stream",
     "text": [
      "0.32223828020505607 g ha-1\n"
     ]
    }
   ],
   "source": [
    "print(np.mean(np.mean(nh3,axis=0))*1000,'g ha-1')"
   ]
  },
  {
   "cell_type": "code",
   "execution_count": 142,
   "metadata": {},
   "outputs": [
    {
     "name": "stdout",
     "output_type": "stream",
     "text": [
      "0.3222382511012256 g ha-1\n"
     ]
    }
   ],
   "source": [
    "print(np.mean(np.mean(nh3_isam,axis=0))*1000,'g ha-1')"
   ]
  },
  {
   "cell_type": "code",
   "execution_count": 144,
   "metadata": {},
   "outputs": [
    {
     "name": "stdout",
     "output_type": "stream",
     "text": [
      "0.32223892 g ha-1\n"
     ]
    }
   ],
   "source": [
    "#dire = '/mnt/npsnas8/CMAQv5.4_2018_12NE3_Benchmark_2Day_Input/output_CCTM_v54_pgi_Bench_2018_12NE3/'\n",
    "cmaq_s = netCDF4.Dataset('/mnt/npsnas8/CMAQv5.4_2018_12NE3_Benchmark_2Day_Input/output_CCTM_v54_pgi_Bench_2018_12NE3/CCTM_DRYDEP_v54_pgi_Bench_2018_12NE3_20180701.nc')\n",
    "# nh3_s = np.mean(np.mean(cmaq_s.variables['NH3'],axis=0))*0.588*dens\n",
    "# nh3_s = np.sum(np.mean(cmaq_s.variables['NH3'][:,0,:,:],axis=0))*1000\n",
    "\n",
    "nh3_x = np.mean(cmaq_s.variables['NH3'][:,0,:,:]*1000,axis=0)\n",
    "print(np.mean(np.mean(nh3_x,axis=0)),'g ha-1')"
   ]
  }
 ],
 "metadata": {
  "kernelspec": {
   "display_name": "Python 3.9.5 ('base')",
   "language": "python",
   "name": "python3"
  },
  "language_info": {
   "codemirror_mode": {
    "name": "ipython",
    "version": 3
   },
   "file_extension": ".py",
   "mimetype": "text/x-python",
   "name": "python",
   "nbconvert_exporter": "python",
   "pygments_lexer": "ipython3",
   "version": "3.9.15"
  },
  "orig_nbformat": 4,
  "vscode": {
   "interpreter": {
    "hash": "858efa83090afd9c8f6c268e6b181ec56573e7c5b3db902817ae0d6931ac5d45"
   }
  }
 },
 "nbformat": 4,
 "nbformat_minor": 2
}
